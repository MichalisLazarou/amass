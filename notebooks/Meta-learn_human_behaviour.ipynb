{
 "cells": [
  {
   "cell_type": "code",
   "execution_count": 1,
   "metadata": {},
   "outputs": [],
   "source": [
    "%load_ext autoreload\n",
    "%autoreload 2\n",
    "%matplotlib notebook\n",
    "%matplotlib inline\n",
    "\n",
    "import sys, os\n",
    "import torch\n",
    "import numpy as np\n",
    "import glob\n",
    "from human_body_prior.tools.omni_tools import copy2cpu as c2c"
   ]
  },
  {
   "cell_type": "code",
   "execution_count": 2,
   "metadata": {},
   "outputs": [],
   "source": [
    "comp_device = torch.device(\"cuda\" if torch.cuda.is_available() else \"cpu\")"
   ]
  },
  {
   "cell_type": "code",
   "execution_count": 3,
   "metadata": {},
   "outputs": [],
   "source": [
    "from human_body_prior.body_model.body_model import BodyModel\n",
    "\n",
    "bm_path = '/home/michalislazarou/PhD/amass/smplh/male/model.npz'\n",
    "dmpl_path = '/home/michalislazarou/PhD/amass/dmpl/male/model.npz'\n",
    "npz_bdata_path ='/home/michalislazarou/PhD/amass/datasets/EKUT/234/'\n",
    "num_betas = 10 # number of body parameters\n",
    "num_dmpls = 8 # number of DMPL parameters\n",
    "\n",
    "bm = BodyModel(bm_path=bm_path, num_betas=num_betas, num_dmpls=num_dmpls, path_dmpl=dmpl_path).to(comp_device)\n",
    "faces = c2c(bm.f)"
   ]
  },
  {
   "cell_type": "code",
   "execution_count": 7,
   "metadata": {},
   "outputs": [
    {
     "name": "stdout",
     "output_type": "stream",
     "text": [
      "79 65 14\n"
     ]
    }
   ],
   "source": [
    "# import meta-dataset\n",
    "data_list = []\n",
    "for data_file in glob.glob(os.path.join(npz_bdata_path, '*.npz')):\n",
    "    bdata = dict(np.load(data_file))\n",
    "    bdata['poses'] = bdata['poses'][:200,:]\n",
    "    bdata['trans'] = bdata['trans'][:200,:]\n",
    "    bdata['dmpls'] = bdata['dmpls'][:200,:]\n",
    "    data_list.append(bdata)\n",
    "train_list, test_list = data_list[:65], data_list[65:] \n",
    "print(len(data_list), len(train_list), len(test_list))"
   ]
  },
  {
   "cell_type": "code",
   "execution_count": null,
   "metadata": {},
   "outputs": [],
   "source": []
  }
 ],
 "metadata": {
  "kernelspec": {
   "display_name": "Python 3",
   "language": "python",
   "name": "python3"
  },
  "language_info": {
   "codemirror_mode": {
    "name": "ipython",
    "version": 3
   },
   "file_extension": ".py",
   "mimetype": "text/x-python",
   "name": "python",
   "nbconvert_exporter": "python",
   "pygments_lexer": "ipython3",
   "version": "3.7.6"
  }
 },
 "nbformat": 4,
 "nbformat_minor": 4
}
